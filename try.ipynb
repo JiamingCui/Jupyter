{
 "cells": [
  {
   "cell_type": "code",
   "execution_count": 113,
   "metadata": {},
   "outputs": [],
   "source": [
    "from altair_saver import save\n",
    "import altair as alt\n",
    "import pandas as pd\n",
    "import numpy as np\n",
    "\n",
    "# Global Parameters:\n",
    "Weeks = 10 # How many weeks in the dataset\n",
    "Signals = ['residential_percent_change_from_baseline', 'hospitalization', 'n_visits', 'positiveIncrease', 'negativeIncrease', 'totalTestResultsIncrease', 'onVentilatorCurrently', 'inIcuCurrently', 'recovered', 'hospitalizedIncrease', 'deathIncrease', 'deathCumulative']\n",
    "\n",
    "MyData = pd.read_csv(\"covid-hospitalization-all-state-merged.csv\")\n",
    "\n",
    "ChartList = []\n",
    "\n",
    "selection = alt.selection_multi(fields=['signal'], bind='legend')\n",
    "\n",
    "for state in range(51): # 50 States and one total\n",
    "    Data = MyData.loc[Weeks*state:Weeks*state+9]\n",
    "    DateList = []\n",
    "    for week in range(Weeks):\n",
    "        DateList.append(MyData.loc[Weeks*state+week][\"date\"])\n",
    "    region = MyData.loc[Weeks*state+week][\"region\"]\n",
    "    for column in Data.columns:\n",
    "        if (column not in Signals):\n",
    "            Data = Data.drop([column],axis=1)\n",
    "    Data.columns.name = \"signal\"\n",
    "    Data.index = DateList\n",
    "    Data.index.name = \"date\"\n",
    "    Data = Data/Data.max()\n",
    "    Data = Data.reset_index().melt('date')\n",
    "\n",
    "    chart = alt.Chart(Data).mark_line().encode(\n",
    "        x='date',\n",
    "        y='value',\n",
    "        color='signal',\n",
    "        opacity=alt.condition(selection, alt.value(1), alt.value(0.2))\n",
    "    ).properties(\n",
    "        width=300,\n",
    "        height=225,\n",
    "        title = str(region),\n",
    "    ).add_selection(\n",
    "        selection\n",
    "    )\n",
    "    \n",
    "    ChartList.append(chart)\n",
    "    \n",
    "ChartList = (ChartList[1] | ChartList[2] | ChartList[3] | ChartList[4] | ChartList[5]) & (ChartList[6] | ChartList[7] | ChartList[8] | ChartList[9] | ChartList[10]) & (ChartList[11] | ChartList[12] | ChartList[13] | ChartList[14] | ChartList[15]) & (ChartList[16] | ChartList[17] | ChartList[18] | ChartList[19] | ChartList[20]) & (ChartList[21] | ChartList[22] | ChartList[23] | ChartList[24] | ChartList[25]) & (ChartList[26] | ChartList[27] | ChartList[28] | ChartList[29] | ChartList[30]) & (ChartList[31] | ChartList[32] | ChartList[33] | ChartList[34] | ChartList[35]) & (ChartList[36] | ChartList[37] | ChartList[38] | ChartList[39] | ChartList[40]) & (ChartList[41] | ChartList[42] | ChartList[43] | ChartList[44] | ChartList[45]) & (ChartList[46] | ChartList[47] | ChartList[48] | ChartList[49] | ChartList[50]) & (ChartList[0])\n",
    "ChartList = ChartList.configure_legend(\n",
    "    orient='top',\n",
    "    titleFontSize=20,\n",
    "    labelFontSize=20,\n",
    "    labelLimit= 0,\n",
    "    columns=6,\n",
    ").configure_title(fontSize=20)\n",
    "ChartList.save(\"Region.html\")\n"
   ]
  },
  {
   "cell_type": "code",
   "execution_count": null,
   "metadata": {},
   "outputs": [],
   "source": []
  }
 ],
 "metadata": {
  "kernelspec": {
   "display_name": "Python 3",
   "language": "python",
   "name": "python3"
  },
  "language_info": {
   "codemirror_mode": {
    "name": "ipython",
    "version": 3
   },
   "file_extension": ".py",
   "mimetype": "text/x-python",
   "name": "python",
   "nbconvert_exporter": "python",
   "pygments_lexer": "ipython3",
   "version": "3.8.2"
  }
 },
 "nbformat": 4,
 "nbformat_minor": 4
}
